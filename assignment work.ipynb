{
 "cells": [
  {
   "cell_type": "code",
   "execution_count": null,
   "id": "dc88647f-94cd-4740-8d48-17f745b2c815",
   "metadata": {},
   "outputs": [],
   "source": [
    "# Question 1: Grade Classifier \n",
    "#Write a program that takes a student's numerical grade as input and prints their corresponding \n",
    "#letter grade according to the following scale:\n",
    "# 90 or above: A 80-89: B 70-79: C 60-69: D Below 60: F\n"
   ]
  },
  {
   "cell_type": "code",
   "execution_count": 4,
   "id": "93d98fbf-5dbb-485f-bbb2-2329c9dea4b1",
   "metadata": {},
   "outputs": [
    {
     "name": "stdin",
     "output_type": "stream",
     "text": [
      "Enter the student's numerical grade:  99\n"
     ]
    },
    {
     "name": "stdout",
     "output_type": "stream",
     "text": [
      "The student's grade is: A\n"
     ]
    }
   ],
   "source": [
    "grade = float(input(\"Enter the student's numerical grade: \"))\n",
    "\n",
    "\n",
    "if grade >= 90:\n",
    "    grade = 'A'\n",
    "elif grade >= 80:\n",
    "    grade = 'B'\n",
    "elif grade >= 70:\n",
    "    grade = 'C'\n",
    "elif grade >= 60:\n",
    "    grade = 'D'\n",
    "else:\n",
    "    grade = 'F'\n",
    "print(\"The student's grade is:\", grade)\n"
   ]
  },
  {
   "cell_type": "code",
   "execution_count": 2,
   "id": "ae01cf88-c4cc-4267-a425-036746b6da12",
   "metadata": {},
   "outputs": [
    {
     "name": "stdin",
     "output_type": "stream",
     "text": [
      "enter your marks 59\n"
     ]
    },
    {
     "name": "stdout",
     "output_type": "stream",
     "text": [
      "its odd\n"
     ]
    }
   ],
   "source": [
    "num=int(input(\"enter your marks\"))\n",
    "\n",
    "if num%2==0:\n",
    "    print(\"its even\")\n",
    "else:\n",
    "    print(\"its odd\")"
   ]
  },
  {
   "cell_type": "code",
   "execution_count": 8,
   "id": "e599c97f-081e-4b22-af76-4a7aea208381",
   "metadata": {},
   "outputs": [
    {
     "name": "stdin",
     "output_type": "stream",
     "text": [
      "enter your year 2020\n"
     ]
    },
    {
     "name": "stdout",
     "output_type": "stream",
     "text": [
      "its a leap year\n"
     ]
    }
   ],
   "source": [
    "year =int(input(\"enter your year\"))\n",
    "\n",
    "if year%4==0:\n",
    "    print(\"its a leap year\")\n",
    "elif year%400==0:\n",
    "    print(\"its a leap year\") \n",
    "elif year%100==0 :\n",
    "      print(\"its not a leap year\")          \n",
    "else:\n",
    "     print(\"its not a leap year\")"
   ]
  },
  {
   "cell_type": "code",
   "execution_count": 15,
   "id": "4ca5de13-5c92-4057-a0f8-2b122c40274d",
   "metadata": {},
   "outputs": [
    {
     "name": "stdin",
     "output_type": "stream",
     "text": [
      "enter your number 50\n"
     ]
    },
    {
     "name": "stdout",
     "output_type": "stream",
     "text": [
      "its a positive number\n"
     ]
    }
   ],
   "source": [
    "num=int(input(\"enter your number\"))\n",
    "\n",
    "if num == 0:\n",
    "    print(\"its a zero\")\n",
    "elif num >0:\n",
    "    print(\"its a positive number\")\n",
    "else:\n",
    "    (\"its a negative number\")"
   ]
  },
  {
   "cell_type": "code",
   "execution_count": 17,
   "id": "abfbf8bd-8112-4382-91ab-7f81667c54ea",
   "metadata": {},
   "outputs": [
    {
     "name": "stdin",
     "output_type": "stream",
     "text": [
      "Enter the length of side 1:  25\n",
      "Enter the length of side 2:  52\n",
      "Enter the length of side 3:  65\n"
     ]
    },
    {
     "name": "stdout",
     "output_type": "stream",
     "text": [
      "The triangle is scalene.\n"
     ]
    }
   ],
   "source": [
    "#### side1 = float(input(\"Enter the length of side 1: \"))\n",
    "side2 = float(input(\"Enter the length of side 2: \"))\n",
    "side3 = float(input(\"Enter the length of side 3: \"))\n",
    "\n",
    "\n",
    "if side3 == side2 == side1:\n",
    "        print(\"The triangle is equilateral.\")\n",
    "elif side1 == side2 or side1 == side3 or side2 == side3:\n",
    "        print(\"The triangle is isosceles.\")\n",
    "else:\n",
    "     print(\"The triangle is scalene.\")"
   ]
  },
  {
   "cell_type": "code",
   "execution_count": null,
   "id": "85fc8edb-81f1-40cb-82e9-f43ff068b9bf",
   "metadata": {},
   "outputs": [],
   "source": []
  },
  {
   "cell_type": "code",
   "execution_count": null,
   "id": "f41be8e6-6ac9-4315-ae7f-b7696593396a",
   "metadata": {},
   "outputs": [],
   "source": []
  }
 ],
 "metadata": {
  "kernelspec": {
   "display_name": "Python 3 (ipykernel)",
   "language": "python",
   "name": "python3"
  },
  "language_info": {
   "codemirror_mode": {
    "name": "ipython",
    "version": 3
   },
   "file_extension": ".py",
   "mimetype": "text/x-python",
   "name": "python",
   "nbconvert_exporter": "python",
   "pygments_lexer": "ipython3",
   "version": "3.12.7"
  }
 },
 "nbformat": 4,
 "nbformat_minor": 5
}
